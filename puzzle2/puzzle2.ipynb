{
 "cells": [
  {
   "cell_type": "code",
   "execution_count": 14,
   "metadata": {},
   "outputs": [],
   "source": [
    "from collections import Counter\n",
    "import numpy as np\n",
    "import difflib"
   ]
  },
  {
   "cell_type": "code",
   "execution_count": 15,
   "metadata": {},
   "outputs": [
    {
     "name": "stdout",
     "output_type": "stream",
     "text": [
      "7134\n"
     ]
    }
   ],
   "source": [
    "\n",
    "hello = []\n",
    "lookup = {2:0, 3:0}\n",
    "world = []\n",
    "with open(\"input\") as file:\n",
    "    \n",
    "    for line in file:\n",
    "        world.append(line.strip())\n",
    "        # get a counter (named dict) of how many occurances of each letter\n",
    "        a = Counter(list(line.strip()))\n",
    "        # Get the number of occurences\n",
    "        b = set(a.values())\n",
    "        # If there are 2 letters\n",
    "        if 2 in b:\n",
    "            lookup[2] += 1\n",
    "        # If there are 3 letters \n",
    "        if 3 in b:\n",
    "            lookup[3] += 1\n",
    "    # The result\n",
    "    print(lookup[2] * lookup[3])\n",
    "            "
   ]
  },
  {
   "cell_type": "code",
   "execution_count": 16,
   "metadata": {},
   "outputs": [
    {
     "data": {
      "text/plain": [
       "7134"
      ]
     },
     "execution_count": 16,
     "metadata": {},
     "output_type": "execute_result"
    }
   ],
   "source": [
    "\n",
    "lookup[2] * lookup[3]\n"
   ]
  },
  {
   "cell_type": "markdown",
   "metadata": {},
   "source": []
  },
  {
   "cell_type": "code",
   "execution_count": 17,
   "metadata": {},
   "outputs": [
    {
     "name": "stdout",
     "output_type": "stream",
     "text": [
      "kbqwtcvzhymhpoelrnaxydifyb kbqwtcvzhsmhpoelrnaxydifyb\n",
      "kbqwtcvzhsmhpoelrnaxydifyb kbqwtcvzhymhpoelrnaxydifyb\n"
     ]
    }
   ],
   "source": [
    "# This is super unscalable\n",
    "# for each sequence\n",
    "for i in range(len(world)):\n",
    "    w = world[i]\n",
    "    # Compare against all the other sequences\n",
    "    for w2 in world:\n",
    "        # If they are the same, skip\n",
    "        if w2 == w:\n",
    "            continue\n",
    "        #If not, compare each letter, createing a list of the differences of ltters in the same place. If there is only one difference...\n",
    "        if len([i for i in range(len(w)) if w[i] != w2[i]]) == 1:\n",
    "            print(w, w2)\n",
    "    \n",
    "    "
   ]
  },
  {
   "cell_type": "code",
   "execution_count": null,
   "metadata": {},
   "outputs": [],
   "source": []
  }
 ],
 "metadata": {
  "kernelspec": {
   "display_name": "Python 3",
   "language": "python",
   "name": "python3"
  },
  "language_info": {
   "codemirror_mode": {
    "name": "ipython",
    "version": 3
   },
   "file_extension": ".py",
   "mimetype": "text/x-python",
   "name": "python",
   "nbconvert_exporter": "python",
   "pygments_lexer": "ipython3",
   "version": "3.6.5"
  }
 },
 "nbformat": 4,
 "nbformat_minor": 2
}

{
 "cells": [
  {
   "cell_type": "code",
   "execution_count": 2,
   "metadata": {},
   "outputs": [],
   "source": [
    "import numpy as np\n",
    "import pandas as pd\n",
    "import sys\n",
    "from IPython.display import clear_output, display"
   ]
  },
  {
   "cell_type": "code",
   "execution_count": 3,
   "metadata": {},
   "outputs": [
    {
     "data": {
      "text/plain": [
       "592.0"
      ]
     },
     "execution_count": 3,
     "metadata": {},
     "output_type": "execute_result"
    }
   ],
   "source": [
    "puz1_input = np.genfromtxt(\"puzzle1_input.csv\", delimiter=\"\\t\")\n",
    "np.sum(puz1_input)"
   ]
  },
  {
   "cell_type": "code",
   "execution_count": 5,
   "metadata": {},
   "outputs": [
    {
     "name": "stdout",
     "output_type": "stream",
     "text": [
      "Iteration count: 137 \n",
      "241.0\n"
     ]
    }
   ],
   "source": [
    "duplication_array = set()\n",
    "new_total = 0\n",
    "iteration_count = 0\n",
    "repeat = True\n",
    "while repeat:\n",
    "    iteration_count += 1\n",
    "    clear_output(wait=True)\n",
    "    print(f\"Iteration count: {iteration_count} \")\n",
    "    for puz in puz1_input:\n",
    "\n",
    "        new_total += puz\n",
    "        if new_total in duplication_array:\n",
    "            print(new_total)\n",
    "            repeat = False\n",
    "            break\n",
    "        else:\n",
    "            duplication_array.add(new_total)"
   ]
  },
  {
   "cell_type": "code",
   "execution_count": null,
   "metadata": {},
   "outputs": [],
   "source": [
    "hjkhjkhkjhkjh\n"
   ]
  },
  {
   "cell_type": "code",
   "execution_count": null,
   "metadata": {},
   "outputs": [],
   "source": []
  }
 ],
 "metadata": {
  "kernelspec": {
   "display_name": "Python 3",
   "language": "python",
   "name": "python3"
  },
  "language_info": {
   "codemirror_mode": {
    "name": "ipython",
    "version": 3
   },
   "file_extension": ".py",
   "mimetype": "text/x-python",
   "name": "python",
   "nbconvert_exporter": "python",
   "pygments_lexer": "ipython3",
   "version": "3.6.5"
  }
 },
 "nbformat": 4,
 "nbformat_minor": 2
}

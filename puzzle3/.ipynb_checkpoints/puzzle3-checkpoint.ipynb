{
 "cells": [
  {
   "cell_type": "code",
   "execution_count": 1,
   "metadata": {},
   "outputs": [],
   "source": [
    "import pandas as pd\n",
    "import numpy as np\n",
    "import re"
   ]
  },
  {
   "cell_type": "code",
   "execution_count": 79,
   "metadata": {},
   "outputs": [
    {
     "name": "stdout",
     "output_type": "stream",
     "text": [
      "11.4 ms ± 283 µs per loop (mean ± std. dev. of 7 runs, 100 loops each)\n"
     ]
    }
   ],
   "source": [
    "%%timeit\n",
    "listy = []\n",
    "n = np.zeros((1000, 1000))\n",
    "with open(\"puzzle3_input.txt\") as file:\n",
    "    for line in file:\n",
    "        listy.append(re.findall(r'(#.*)\\s@\\s(\\d+),(\\d+):\\s(\\d+)x(\\d+)', line.strip())[0])\n",
    "    \n",
    "    listy[0]\n",
    "    for l in listy:\n",
    "        x0 = int(l[1]) \n",
    "        y0 = int(l[2]) \n",
    "        x1 = x0 + int(l[3]) \n",
    "        y1 = y0 + int(l[4])\n",
    "        n[y0:y1, x0:x1] +=1\n",
    "    print(len(n[n>1]))"
   ]
  },
  {
   "cell_type": "code",
   "execution_count": 68,
   "metadata": {},
   "outputs": [],
   "source": [
    "n = np.zeros((1000, 1000))"
   ]
  },
  {
   "cell_type": "code",
   "execution_count": null,
   "metadata": {},
   "outputs": [],
   "source": [
    "with open(\"puzzle3_input.txt\") as f:\n",
    "    print(np.fromfile(f, np.str))"
   ]
  },
  {
   "cell_type": "code",
   "execution_count": 73,
   "metadata": {},
   "outputs": [],
   "source": [
    "\n",
    "listy[0]\n",
    "for l in listy:\n",
    "    x0 = int(l[1]) \n",
    "    y0 = int(l[2]) \n",
    "    x1 = x0 + int(l[3]) \n",
    "    y1 = y0 + int(l[4])\n",
    "    n[y0:y1, x0:x1] +=1\n",
    "    \n",
    "    \n",
    "\n"
   ]
  },
  {
   "cell_type": "code",
   "execution_count": 77,
   "metadata": {},
   "outputs": [
    {
     "data": {
      "text/plain": [
       "110383"
      ]
     },
     "execution_count": 77,
     "metadata": {},
     "output_type": "execute_result"
    }
   ],
   "source": [
    "len(n[n>1])"
   ]
  },
  {
   "cell_type": "code",
   "execution_count": null,
   "metadata": {},
   "outputs": [],
   "source": [
    "arrayee"
   ]
  },
  {
   "cell_type": "code",
   "execution_count": 60,
   "metadata": {},
   "outputs": [],
   "source": [
    "t = np.zeros((8,8))\n"
   ]
  },
  {
   "cell_type": "code",
   "execution_count": 37,
   "metadata": {},
   "outputs": [],
   "source": [
    "listt = [\"#1, @ 1,3: 4x4\", \"#2, @ 3,1: 4x4\", \"#3 @ 5,5: 2x2\"]\n",
    "listt = [x[0] for x in (re.findall(r'(#.*)\\s@\\s(\\d+),(\\d+):\\s(\\d+)x(\\d+)', s) for s in listt)]"
   ]
  },
  {
   "cell_type": "code",
   "execution_count": 61,
   "metadata": {},
   "outputs": [
    {
     "name": "stdout",
     "output_type": "stream",
     "text": [
      "inches from the left: 1\n",
      "inches from the top: 3\n",
      "inches across: 4\n",
      "inches down: 4\n",
      "rightmost edge: 5\n",
      "lowest edge: 7\n",
      "inches from the left: 3\n",
      "inches from the top: 1\n",
      "inches across: 4\n",
      "inches down: 4\n",
      "rightmost edge: 7\n",
      "lowest edge: 5\n",
      "inches from the left: 5\n",
      "inches from the top: 5\n",
      "inches across: 2\n",
      "inches down: 2\n",
      "rightmost edge: 7\n",
      "lowest edge: 7\n"
     ]
    }
   ],
   "source": [
    "for l in listt:\n",
    "    x0 = int(l[1]) \n",
    "    y0 = int(l[2]) \n",
    "    x1 = x0 + int(l[3]) \n",
    "    y1 = y0 + int(l[4])\n",
    "    print(f\"inches from the left: {x0}\")\n",
    "    print(f\"inches from the top: {y0}\")\n",
    "    print(f\"inches across: {x1-x0}\")\n",
    "    print(f\"inches down: {y1-y0}\")\n",
    "    print(f\"rightmost edge: {x1}\")\n",
    "    print(f\"lowest edge: {y1}\")\n",
    "    t[y0:y1, x0:x1] +=1\n",
    "\n",
    "    "
   ]
  },
  {
   "cell_type": "code",
   "execution_count": 62,
   "metadata": {},
   "outputs": [
    {
     "data": {
      "text/plain": [
       "array([[0., 0., 0., 0., 0., 0., 0., 0.],\n",
       "       [0., 0., 0., 1., 1., 1., 1., 0.],\n",
       "       [0., 0., 0., 1., 1., 1., 1., 0.],\n",
       "       [0., 1., 1., 2., 2., 1., 1., 0.],\n",
       "       [0., 1., 1., 2., 2., 1., 1., 0.],\n",
       "       [0., 1., 1., 1., 1., 1., 1., 0.],\n",
       "       [0., 1., 1., 1., 1., 1., 1., 0.],\n",
       "       [0., 0., 0., 0., 0., 0., 0., 0.]])"
      ]
     },
     "execution_count": 62,
     "metadata": {},
     "output_type": "execute_result"
    }
   ],
   "source": [
    "t\n"
   ]
  },
  {
   "cell_type": "code",
   "execution_count": 76,
   "metadata": {},
   "outputs": [
    {
     "data": {
      "text/plain": [
       "4"
      ]
     },
     "execution_count": 76,
     "metadata": {},
     "output_type": "execute_result"
    }
   ],
   "source": [
    "len(t[t>1])"
   ]
  },
  {
   "cell_type": "code",
   "execution_count": null,
   "metadata": {},
   "outputs": [],
   "source": []
  }
 ],
 "metadata": {
  "kernelspec": {
   "display_name": "Python 3",
   "language": "python",
   "name": "python3"
  },
  "language_info": {
   "codemirror_mode": {
    "name": "ipython",
    "version": 3
   },
   "file_extension": ".py",
   "mimetype": "text/x-python",
   "name": "python",
   "nbconvert_exporter": "python",
   "pygments_lexer": "ipython3",
   "version": "3.6.5"
  }
 },
 "nbformat": 4,
 "nbformat_minor": 2
}

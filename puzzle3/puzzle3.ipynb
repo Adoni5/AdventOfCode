{
 "cells": [
  {
   "cell_type": "code",
   "execution_count": 2,
   "metadata": {},
   "outputs": [],
   "source": [
    "import pandas as pd\n",
    "import numpy as np\n",
    "import re"
   ]
  },
  {
   "cell_type": "code",
   "execution_count": 1,
   "metadata": {},
   "outputs": [],
   "source": [
    "def doooo():\n",
    "    listy = []\n",
    "    n = np.zeros((1000, 1000))\n",
    "    with open(\"puzzle3_input.txt\") as file:\n",
    "        for line in file:\n",
    "            listy.append(re.findall(r'(#.*)\\s@\\s(\\d+),(\\d+):\\s(\\d+)x(\\d+)', line.strip())[0])\n",
    "\n",
    "        listy[0]\n",
    "        for l in listy:\n",
    "            x0 = int(l[1]) \n",
    "            y0 = int(l[2]) \n",
    "            x1 = x0 + int(l[3]) \n",
    "            y1 = y0 + int(l[4])\n",
    "            n[y0:y1, x0:x1] +=1\n",
    "        print(len(n[n>1]))\n",
    "        for l in listy:\n",
    "            x0 = int(l[1]) \n",
    "            y0 = int(l[2]) \n",
    "            x1 = x0 + int(l[3]) \n",
    "            y1 = y0 + int(l[4])\n",
    "            if (n[y0:y1, x0:x1] == 1).all():\n",
    "                print(l[0])"
   ]
  },
  {
   "cell_type": "code",
   "execution_count": 3,
   "metadata": {},
   "outputs": [],
   "source": [
    "%load_ext line_profiler"
   ]
  },
  {
   "cell_type": "code",
   "execution_count": 6,
   "metadata": {},
   "outputs": [
    {
     "data": {
      "text/plain": [
       "Timer unit: 1e-06 s\n",
       "\n",
       "Total time: 0.044968 s\n",
       "File: <ipython-input-1-dc6138d79e74>\n",
       "Function: doooo at line 1\n",
       "\n",
       "Line #      Hits         Time  Per Hit   % Time  Line Contents\n",
       "==============================================================\n",
       "     1                                           def doooo():\n",
       "     2         1          4.0      4.0      0.0      listy = []\n",
       "     3         1       1191.0   1191.0      2.6      n = np.zeros((1000, 1000))\n",
       "     4         1        102.0    102.0      0.2      with open(\"puzzle3_input.txt\") as file:\n",
       "     5      1336       3636.0      2.7      8.1          for line in file:\n",
       "     6      1335      13541.0     10.1     30.1              listy.append(re.findall(r'(#.*)\\s@\\s(\\d+),(\\d+):\\s(\\d+)x(\\d+)', line.strip())[0])\n",
       "     7                                           \n",
       "     8         1          2.0      2.0      0.0          listy[0]\n",
       "     9      1336       1511.0      1.1      3.4          for l in listy:\n",
       "    10      1335       1773.0      1.3      3.9              x0 = int(l[1]) \n",
       "    11      1335       1442.0      1.1      3.2              y0 = int(l[2]) \n",
       "    12      1335       1579.0      1.2      3.5              x1 = x0 + int(l[3]) \n",
       "    13      1335       1601.0      1.2      3.6              y1 = y0 + int(l[4])\n",
       "    14      1335      15118.0     11.3     33.6              n[y0:y1, x0:x1] +=1\n",
       "    15         1       2099.0   2099.0      4.7          a = len(n[n>1])\n",
       "    16       129         65.0      0.5      0.1          for l in listy:\n",
       "    17       129         88.0      0.7      0.2              x0 = int(l[1]) \n",
       "    18       129         76.0      0.6      0.2              y0 = int(l[2]) \n",
       "    19       129         81.0      0.6      0.2              x1 = x0 + int(l[3]) \n",
       "    20       129         77.0      0.6      0.2              y1 = y0 + int(l[4])\n",
       "    21       129        962.0      7.5      2.1              if (n[y0:y1, x0:x1] == 1).all():\n",
       "    22         1         20.0     20.0      0.0                 return(l[0], a)"
      ]
     },
     "metadata": {},
     "output_type": "display_data"
    }
   ],
   "source": [
    "%lprun -f doooo doooo()\n",
    "        "
   ]
  },
  {
   "cell_type": "code",
   "execution_count": 66,
   "metadata": {},
   "outputs": [
    {
     "name": "stdout",
     "output_type": "stream",
     "text": [
      "1.46 ms ± 32.4 µs per loop (mean ± std. dev. of 7 runs, 1000 loops each)\n"
     ]
    }
   ],
   "source": [
    "\n",
    "%%timeit\n",
    "import pandas as pd\n",
    "import numpy as np\n",
    "import re\n",
    "with open(\"puzzle3_input.txt\") as f:\n",
    "    listy = np.array(f.read().split())\n",
    "#     n = np.zeros((1000, 1000))\n",
    "    \n",
    "#     for l in listy:\n",
    "#         x0 = int(l[1]) \n",
    "#         y0 = int(l[2]) \n",
    "#         x1 = x0 + int(l[3]) \n",
    "#         y1 = y0 + int(l[4])\n",
    "#         n[y0:y1, x0:x1] +=1\n",
    "\n",
    "\n",
    "    \n",
    "    \n",
    "    "
   ]
  },
  {
   "cell_type": "code",
   "execution_count": 36,
   "metadata": {},
   "outputs": [
    {
     "ename": "NameError",
     "evalue": "name 'listy' is not defined",
     "output_type": "error",
     "traceback": [
      "\u001b[0;31m---------------------------------------------------------------------------\u001b[0m",
      "\u001b[0;31mNameError\u001b[0m                                 Traceback (most recent call last)",
      "\u001b[0;32m<ipython-input-36-60585242d59a>\u001b[0m in \u001b[0;36m<module>\u001b[0;34m()\u001b[0m\n\u001b[1;32m      1\u001b[0m \u001b[0mb\u001b[0m\u001b[0;34m\u001b[0m\u001b[0m\n\u001b[0;32m----> 2\u001b[0;31m \u001b[0mlisty\u001b[0m\u001b[0;34m[\u001b[0m\u001b[0;36m0\u001b[0m\u001b[0;34m]\u001b[0m\u001b[0;34m\u001b[0m\u001b[0m\n\u001b[0m\u001b[1;32m      3\u001b[0m \u001b[0;32mfor\u001b[0m \u001b[0ml\u001b[0m \u001b[0;32min\u001b[0m \u001b[0mlisty\u001b[0m\u001b[0;34m:\u001b[0m\u001b[0;34m\u001b[0m\u001b[0m\n\u001b[1;32m      4\u001b[0m     \u001b[0mx0\u001b[0m \u001b[0;34m=\u001b[0m \u001b[0mint\u001b[0m\u001b[0;34m(\u001b[0m\u001b[0ml\u001b[0m\u001b[0;34m[\u001b[0m\u001b[0;36m1\u001b[0m\u001b[0;34m]\u001b[0m\u001b[0;34m)\u001b[0m\u001b[0;34m\u001b[0m\u001b[0m\n\u001b[1;32m      5\u001b[0m     \u001b[0my0\u001b[0m \u001b[0;34m=\u001b[0m \u001b[0mint\u001b[0m\u001b[0;34m(\u001b[0m\u001b[0ml\u001b[0m\u001b[0;34m[\u001b[0m\u001b[0;36m2\u001b[0m\u001b[0;34m]\u001b[0m\u001b[0;34m)\u001b[0m\u001b[0;34m\u001b[0m\u001b[0m\n",
      "\u001b[0;31mNameError\u001b[0m: name 'listy' is not defined"
     ]
    }
   ],
   "source": [
    "b\n",
    "listy[0]\n",
    "for l in listy:\n",
    "    x0 = int(l[1]) \n",
    "    y0 = int(l[2]) \n",
    "    x1 = x0 + int(l[3]) \n",
    "    y1 = y0 + int(l[4])\n",
    "    n[y0:y1, x0:x1] +=1\n",
    "\n",
    "    \n",
    "    \n",
    "\n"
   ]
  },
  {
   "cell_type": "code",
   "execution_count": 77,
   "metadata": {},
   "outputs": [
    {
     "data": {
      "text/plain": [
       "110383"
      ]
     },
     "execution_count": 77,
     "metadata": {},
     "output_type": "execute_result"
    }
   ],
   "source": [
    "len(n[n>1])"
   ]
  },
  {
   "cell_type": "code",
   "execution_count": 46,
   "metadata": {},
   "outputs": [
    {
     "data": {
      "text/plain": [
       "array(['#1 @ 100,366: 24x27', '#2 @ 726,271: 11x15',\n",
       "       '#3 @ 343,814: 17x18', ..., '#1334 @ 435,778: 25x13',\n",
       "       '#1335 @ 562,221: 12x16', ''], dtype='<U22')"
      ]
     },
     "execution_count": 46,
     "metadata": {},
     "output_type": "execute_result"
    }
   ],
   "source": [
    "b"
   ]
  },
  {
   "cell_type": "code",
   "execution_count": 92,
   "metadata": {},
   "outputs": [],
   "source": [
    "t = np.zeros((8,8))\n"
   ]
  },
  {
   "cell_type": "code",
   "execution_count": 70,
   "metadata": {},
   "outputs": [],
   "source": [
    "listt = [\"#1, @ 1,3: 4x4\", \"#2, @ 3,1: 4x4\", \"#3 @ 5,5: 2x2\"]\n",
    "listt = [x[0] for x in (re.findall(r'(#.*)\\s@\\s(\\d+),(\\d+):\\s(\\d+)x(\\d+)', s) for s in listt)]"
   ]
  },
  {
   "cell_type": "code",
   "execution_count": 93,
   "metadata": {},
   "outputs": [
    {
     "name": "stdout",
     "output_type": "stream",
     "text": [
      "inches from the left: 1\n",
      "inches from the top: 3\n",
      "inches across: 4\n",
      "inches down: 4\n",
      "rightmost edge: 5\n",
      "lowest edge: 7\n",
      "inches from the left: 3\n",
      "inches from the top: 1\n",
      "inches across: 4\n",
      "inches down: 4\n",
      "rightmost edge: 7\n",
      "lowest edge: 5\n",
      "inches from the left: 5\n",
      "inches from the top: 5\n",
      "inches across: 2\n",
      "inches down: 2\n",
      "rightmost edge: 7\n",
      "lowest edge: 7\n",
      "#3\n"
     ]
    }
   ],
   "source": [
    "for l in listt:\n",
    "    x0 = int(l[1]) \n",
    "    y0 = int(l[2]) \n",
    "    x1 = x0 + int(l[3]) \n",
    "    y1 = y0 + int(l[4])\n",
    "    print(f\"inches from the left: {x0}\")\n",
    "    print(f\"inches from the top: {y0}\")\n",
    "    print(f\"inches across: {x1-x0}\")\n",
    "    print(f\"inches down: {y1-y0}\")\n",
    "    print(f\"rightmost edge: {x1}\")\n",
    "    print(f\"lowest edge: {y1}\")\n",
    "    t[y0:y1, x0:x1] +=1\n",
    "    \n",
    "for l in listt:\n",
    "    x0 = int(l[1]) \n",
    "    y0 = int(l[2]) \n",
    "    x1 = x0 + int(l[3]) \n",
    "    y1 = y0 + int(l[4])\n",
    "    if (t[y0:y1, x0:x1] == 1).all():\n",
    "        print(l[0])\n",
    "    "
   ]
  },
  {
   "cell_type": "code",
   "execution_count": 89,
   "metadata": {},
   "outputs": [
    {
     "data": {
      "text/plain": [
       "array([[False, False],\n",
       "       [False, False]])"
      ]
     },
     "execution_count": 89,
     "metadata": {},
     "output_type": "execute_result"
    }
   ],
   "source": [
    "t[y0:y1, x0:x1] == 1.0\n"
   ]
  },
  {
   "cell_type": "code",
   "execution_count": 76,
   "metadata": {},
   "outputs": [
    {
     "data": {
      "text/plain": [
       "4"
      ]
     },
     "execution_count": 76,
     "metadata": {},
     "output_type": "execute_result"
    }
   ],
   "source": [
    "len(t[t>1])"
   ]
  },
  {
   "cell_type": "code",
   "execution_count": 76,
   "metadata": {},
   "outputs": [
    {
     "data": {
      "text/plain": [
       "[('#1,', '1', '3', '4', '4'),\n",
       " ('#2,', '3', '1', '4', '4'),\n",
       " ('#3', '5', '5', '2', '2')]"
      ]
     },
     "execution_count": 76,
     "metadata": {},
     "output_type": "execute_result"
    }
   ],
   "source": [
    "listt\n"
   ]
  },
  {
   "cell_type": "code",
   "execution_count": 77,
   "metadata": {},
   "outputs": [
    {
     "data": {
      "text/plain": [
       "array([[0., 0.],\n",
       "       [0., 0.]])"
      ]
     },
     "execution_count": 77,
     "metadata": {},
     "output_type": "execute_result"
    }
   ],
   "source": [
    "np.zeros((2,2))"
   ]
  },
  {
   "cell_type": "code",
   "execution_count": 78,
   "metadata": {},
   "outputs": [
    {
     "data": {
      "text/plain": [
       "array([[[0.],\n",
       "        [0.]],\n",
       "\n",
       "       [[0.],\n",
       "        [0.]]])"
      ]
     },
     "execution_count": 78,
     "metadata": {},
     "output_type": "execute_result"
    }
   ],
   "source": [
    "np.zeros((2,2,1))"
   ]
  },
  {
   "cell_type": "code",
   "execution_count": 83,
   "metadata": {},
   "outputs": [],
   "source": [
    "test = np.zeros((1000,1000,2))"
   ]
  },
  {
   "cell_type": "code",
   "execution_count": 87,
   "metadata": {},
   "outputs": [
    {
     "ename": "IndexError",
     "evalue": "index 2 is out of bounds for axis 0 with size 2",
     "output_type": "error",
     "traceback": [
      "\u001b[0;31m---------------------------------------------------------------------------\u001b[0m",
      "\u001b[0;31mIndexError\u001b[0m                                Traceback (most recent call last)",
      "\u001b[0;32m<ipython-input-87-f6dd08dbfb23>\u001b[0m in \u001b[0;36m<module>\u001b[0;34m()\u001b[0m\n\u001b[0;32m----> 1\u001b[0;31m \u001b[0mtest\u001b[0m\u001b[0;34m[\u001b[0m\u001b[0;36m0\u001b[0m\u001b[0;34m]\u001b[0m\u001b[0;34m[\u001b[0m\u001b[0;36m0\u001b[0m\u001b[0;34m]\u001b[0m\u001b[0;34m[\u001b[0m\u001b[0;36m2\u001b[0m\u001b[0;34m]\u001b[0m\u001b[0;34m\u001b[0m\u001b[0m\n\u001b[0m",
      "\u001b[0;31mIndexError\u001b[0m: index 2 is out of bounds for axis 0 with size 2"
     ]
    }
   ],
   "source": [
    "test[0][0][2]"
   ]
  },
  {
   "cell_type": "code",
   "execution_count": 81,
   "metadata": {},
   "outputs": [
    {
     "data": {
      "text/plain": [
       "array([[[0., 0.],\n",
       "        [0., 0.]]])"
      ]
     },
     "execution_count": 81,
     "metadata": {},
     "output_type": "execute_result"
    }
   ],
   "source": [
    "np.zeros((1,2,2))"
   ]
  },
  {
   "cell_type": "code",
   "execution_count": null,
   "metadata": {},
   "outputs": [],
   "source": []
  }
 ],
 "metadata": {
  "kernelspec": {
   "display_name": "Python 3",
   "language": "python",
   "name": "python3"
  },
  "language_info": {
   "codemirror_mode": {
    "name": "ipython",
    "version": 3
   },
   "file_extension": ".py",
   "mimetype": "text/x-python",
   "name": "python",
   "nbconvert_exporter": "python",
   "pygments_lexer": "ipython3",
   "version": "3.6.5"
  }
 },
 "nbformat": 4,
 "nbformat_minor": 2
}

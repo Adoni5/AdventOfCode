{
 "cells": [
  {
   "cell_type": "code",
   "execution_count": 1,
   "metadata": {},
   "outputs": [],
   "source": [
    "import pandas as pd\n",
    "import numpy as np\n",
    "import re"
   ]
  },
  {
   "cell_type": "code",
   "execution_count": 5,
   "metadata": {},
   "outputs": [],
   "source": [
    "def doooo():\n",
    "    listy = []\n",
    "    # 1000 X 1000 numpy 2d array with all zeros\n",
    "    n = np.zeros((1000, 1000))\n",
    "    with open(\"puzzle3_input.txt\") as file:\n",
    "        for line in file:\n",
    "            listy.append(re.findall(r'(#.*)\\s@\\s(\\d+),(\\d+):\\s(\\d+)x(\\d+)', line.strip())[0])\n",
    "\n",
    "        listy[0]\n",
    "        for l in listy:\n",
    "            x0 = int(l[1]) \n",
    "            y0 = int(l[2]) \n",
    "            x1 = x0 + int(l[3]) \n",
    "            y1 = y0 + int(l[4])\n",
    "            n[y0:y1, x0:x1] +=1\n",
    "        print(len(n[n>1]))\n",
    "        for l in listy:\n",
    "            x0 = int(l[1]) \n",
    "            y0 = int(l[2]) \n",
    "            x1 = x0 + int(l[3]) \n",
    "            y1 = y0 + int(l[4])\n",
    "            if (n[y0:y1, x0:x1] == 1).all():\n",
    "                print(l[0])"
   ]
  },
  {
   "cell_type": "code",
   "execution_count": 6,
   "metadata": {},
   "outputs": [
    {
     "name": "stdout",
     "output_type": "stream",
     "text": [
      "110383\n",
      "#129\n",
      "110383\n",
      "#129\n",
      "110383\n",
      "#129\n",
      "110383\n",
      "#129\n",
      "110383\n",
      "#129\n",
      "110383\n",
      "#129\n",
      "110383\n",
      "#129\n",
      "110383\n",
      "#129\n",
      "110383\n",
      "#129\n",
      "110383\n",
      "#129\n",
      "110383\n",
      "#129\n",
      "110383\n",
      "#129\n",
      "110383\n",
      "#129\n",
      "110383\n",
      "#129\n",
      "110383\n",
      "#129\n",
      "110383\n",
      "#129\n",
      "110383\n",
      "#129\n",
      "110383\n",
      "#129\n",
      "110383\n",
      "#129\n",
      "110383\n",
      "#129\n",
      "110383\n",
      "#129\n",
      "110383\n",
      "#129\n",
      "110383\n",
      "#129\n",
      "110383\n",
      "#129\n",
      "110383\n",
      "#129\n",
      "110383\n",
      "#129\n",
      "110383\n",
      "#129\n",
      "110383\n",
      "#129\n",
      "110383\n",
      "#129\n",
      "110383\n",
      "#129\n",
      "110383\n",
      "#129\n",
      "110383\n",
      "#129\n",
      "110383\n",
      "#129\n",
      "110383\n",
      "#129\n",
      "110383\n",
      "#129\n",
      "110383\n",
      "#129\n",
      "110383\n",
      "#129\n",
      "110383\n",
      "#129\n",
      "110383\n",
      "#129\n",
      "110383\n",
      "#129\n",
      "110383\n",
      "#129\n",
      "110383\n",
      "#129\n",
      "110383\n",
      "#129\n",
      "110383\n",
      "#129\n",
      "110383\n",
      "#129\n",
      "110383\n",
      "#129\n",
      "110383\n",
      "#129\n",
      "110383\n",
      "#129\n",
      "110383\n",
      "#129\n",
      "110383\n",
      "#129\n",
      "110383\n",
      "#129\n",
      "110383\n",
      "#129\n",
      "110383\n",
      "#129\n",
      "110383\n",
      "#129\n",
      "110383\n",
      "#129\n",
      "110383\n",
      "#129\n",
      "110383\n",
      "#129\n",
      "110383\n",
      "#129\n",
      "110383\n",
      "#129\n",
      "110383\n",
      "#129\n",
      "110383\n",
      "#129\n",
      "110383\n",
      "#129\n",
      "110383\n",
      "#129\n",
      "110383\n",
      "#129\n",
      "110383\n",
      "#129\n",
      "110383\n",
      "#129\n",
      "110383\n",
      "#129\n",
      "110383\n",
      "#129\n",
      "110383\n",
      "#129\n",
      "110383\n",
      "#129\n",
      "110383\n",
      "#129\n",
      "110383\n",
      "#129\n",
      "110383\n",
      "#129\n",
      "110383\n",
      "#129\n",
      "110383\n",
      "#129\n",
      "110383\n",
      "#129\n",
      "110383\n",
      "#129\n",
      "110383\n",
      "#129\n",
      "110383\n",
      "#129\n",
      "110383\n",
      "#129\n",
      "110383\n",
      "#129\n",
      "21 ms ± 1.07 ms per loop (mean ± std. dev. of 7 runs, 10 loops each)\n"
     ]
    }
   ],
   "source": [
    "%%timeit\n",
    "doooo()"
   ]
  },
  {
   "cell_type": "code",
   "execution_count": 77,
   "metadata": {},
   "outputs": [
    {
     "data": {
      "text/plain": [
       "110383"
      ]
     },
     "execution_count": 77,
     "metadata": {},
     "output_type": "execute_result"
    }
   ],
   "source": [
    "len(n[n>1])"
   ]
  },
  {
   "cell_type": "code",
   "execution_count": 46,
   "metadata": {},
   "outputs": [
    {
     "data": {
      "text/plain": [
       "array(['#1 @ 100,366: 24x27', '#2 @ 726,271: 11x15',\n",
       "       '#3 @ 343,814: 17x18', ..., '#1334 @ 435,778: 25x13',\n",
       "       '#1335 @ 562,221: 12x16', ''], dtype='<U22')"
      ]
     },
     "execution_count": 46,
     "metadata": {},
     "output_type": "execute_result"
    }
   ],
   "source": [
    "b"
   ]
  },
  {
   "cell_type": "code",
   "execution_count": 92,
   "metadata": {},
   "outputs": [],
   "source": [
    "t = np.zeros((8,8))\n"
   ]
  },
  {
   "cell_type": "code",
   "execution_count": 70,
   "metadata": {},
   "outputs": [],
   "source": [
    "listt = [\"#1, @ 1,3: 4x4\", \"#2, @ 3,1: 4x4\", \"#3 @ 5,5: 2x2\"]\n",
    "listt = [x[0] for x in (re.findall(r'(#.*)\\s@\\s(\\d+),(\\d+):\\s(\\d+)x(\\d+)', s) for s in listt)]"
   ]
  },
  {
   "cell_type": "code",
   "execution_count": 93,
   "metadata": {},
   "outputs": [
    {
     "name": "stdout",
     "output_type": "stream",
     "text": [
      "inches from the left: 1\n",
      "inches from the top: 3\n",
      "inches across: 4\n",
      "inches down: 4\n",
      "rightmost edge: 5\n",
      "lowest edge: 7\n",
      "inches from the left: 3\n",
      "inches from the top: 1\n",
      "inches across: 4\n",
      "inches down: 4\n",
      "rightmost edge: 7\n",
      "lowest edge: 5\n",
      "inches from the left: 5\n",
      "inches from the top: 5\n",
      "inches across: 2\n",
      "inches down: 2\n",
      "rightmost edge: 7\n",
      "lowest edge: 7\n",
      "#3\n"
     ]
    }
   ],
   "source": [
    "for l in listt:\n",
    "    x0 = int(l[1]) \n",
    "    y0 = int(l[2]) \n",
    "    x1 = x0 + int(l[3]) \n",
    "    y1 = y0 + int(l[4])\n",
    "    print(f\"inches from the left: {x0}\")\n",
    "    print(f\"inches from the top: {y0}\")\n",
    "    print(f\"inches across: {x1-x0}\")\n",
    "    print(f\"inches down: {y1-y0}\")\n",
    "    print(f\"rightmost edge: {x1}\")\n",
    "    print(f\"lowest edge: {y1}\")\n",
    "    t[y0:y1, x0:x1] +=1\n",
    "    \n",
    "for l in listt:\n",
    "    x0 = int(l[1]) \n",
    "    y0 = int(l[2]) \n",
    "    x1 = x0 + int(l[3]) \n",
    "    y1 = y0 + int(l[4])\n",
    "    if (t[y0:y1, x0:x1] == 1).all():\n",
    "        print(l[0])\n",
    "    "
   ]
  },
  {
   "cell_type": "code",
   "execution_count": 89,
   "metadata": {},
   "outputs": [
    {
     "data": {
      "text/plain": [
       "array([[False, False],\n",
       "       [False, False]])"
      ]
     },
     "execution_count": 89,
     "metadata": {},
     "output_type": "execute_result"
    }
   ],
   "source": [
    "t[y0:y1, x0:x1] == 1.0\n"
   ]
  },
  {
   "cell_type": "code",
   "execution_count": 76,
   "metadata": {},
   "outputs": [
    {
     "data": {
      "text/plain": [
       "4"
      ]
     },
     "execution_count": 76,
     "metadata": {},
     "output_type": "execute_result"
    }
   ],
   "source": [
    "len(t[t>1])"
   ]
  },
  {
   "cell_type": "code",
   "execution_count": 76,
   "metadata": {},
   "outputs": [
    {
     "data": {
      "text/plain": [
       "[('#1,', '1', '3', '4', '4'),\n",
       " ('#2,', '3', '1', '4', '4'),\n",
       " ('#3', '5', '5', '2', '2')]"
      ]
     },
     "execution_count": 76,
     "metadata": {},
     "output_type": "execute_result"
    }
   ],
   "source": [
    "listt\n"
   ]
  },
  {
   "cell_type": "code",
   "execution_count": 77,
   "metadata": {},
   "outputs": [
    {
     "data": {
      "text/plain": [
       "array([[0., 0.],\n",
       "       [0., 0.]])"
      ]
     },
     "execution_count": 77,
     "metadata": {},
     "output_type": "execute_result"
    }
   ],
   "source": [
    "np.zeros((2,2))"
   ]
  },
  {
   "cell_type": "code",
   "execution_count": 78,
   "metadata": {},
   "outputs": [
    {
     "data": {
      "text/plain": [
       "array([[[0.],\n",
       "        [0.]],\n",
       "\n",
       "       [[0.],\n",
       "        [0.]]])"
      ]
     },
     "execution_count": 78,
     "metadata": {},
     "output_type": "execute_result"
    }
   ],
   "source": [
    "np.zeros((2,2,1))"
   ]
  },
  {
   "cell_type": "code",
   "execution_count": 83,
   "metadata": {},
   "outputs": [],
   "source": [
    "test = np.zeros((1000,1000,2))"
   ]
  },
  {
   "cell_type": "code",
   "execution_count": 87,
   "metadata": {},
   "outputs": [
    {
     "ename": "IndexError",
     "evalue": "index 2 is out of bounds for axis 0 with size 2",
     "output_type": "error",
     "traceback": [
      "\u001b[0;31m---------------------------------------------------------------------------\u001b[0m",
      "\u001b[0;31mIndexError\u001b[0m                                Traceback (most recent call last)",
      "\u001b[0;32m<ipython-input-87-f6dd08dbfb23>\u001b[0m in \u001b[0;36m<module>\u001b[0;34m()\u001b[0m\n\u001b[0;32m----> 1\u001b[0;31m \u001b[0mtest\u001b[0m\u001b[0;34m[\u001b[0m\u001b[0;36m0\u001b[0m\u001b[0;34m]\u001b[0m\u001b[0;34m[\u001b[0m\u001b[0;36m0\u001b[0m\u001b[0;34m]\u001b[0m\u001b[0;34m[\u001b[0m\u001b[0;36m2\u001b[0m\u001b[0;34m]\u001b[0m\u001b[0;34m\u001b[0m\u001b[0m\n\u001b[0m",
      "\u001b[0;31mIndexError\u001b[0m: index 2 is out of bounds for axis 0 with size 2"
     ]
    }
   ],
   "source": [
    "test[0][0][2]"
   ]
  },
  {
   "cell_type": "code",
   "execution_count": 81,
   "metadata": {},
   "outputs": [
    {
     "data": {
      "text/plain": [
       "array([[[0., 0.],\n",
       "        [0., 0.]]])"
      ]
     },
     "execution_count": 81,
     "metadata": {},
     "output_type": "execute_result"
    }
   ],
   "source": [
    "np.zeros((1,2,2))"
   ]
  },
  {
   "cell_type": "code",
   "execution_count": null,
   "metadata": {},
   "outputs": [],
   "source": []
  }
 ],
 "metadata": {
  "kernelspec": {
   "display_name": "Python 3",
   "language": "python",
   "name": "python3"
  },
  "language_info": {
   "codemirror_mode": {
    "name": "ipython",
    "version": 3
   },
   "file_extension": ".py",
   "mimetype": "text/x-python",
   "name": "python",
   "nbconvert_exporter": "python",
   "pygments_lexer": "ipython3",
   "version": "3.6.5"
  }
 },
 "nbformat": 4,
 "nbformat_minor": 2
}
